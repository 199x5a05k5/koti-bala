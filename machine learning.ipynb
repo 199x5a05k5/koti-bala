{
 "cells": [
  {
   "cell_type": "code",
   "execution_count": null,
   "metadata": {},
   "outputs": [],
   "source": [
    "import matplotlib\n",
    "import matplotlib.pyplot as plt\n",
    "import numpy as np\n",
    "import pandas as pd\n",
    "import sklearn.linear_model\n",
    "def prepare_country_stats(oecd_bli,gdp_per_capita):\n",
    "    oecd_bli=oecd_bli[oecd_bli[\"INEQUALITY\"]==\"TOT\"]\n",
    "    oecd_bli=oecd_bli.pivot(index=\"Country\",columns=\"Indicator\",\n",
    "                            values=\"Value\")\n",
    "    gdp_per_capita.rename(columns={\"2015\":\"GDP per capita\"},inplace=True)\n",
    "    gdp_per_capita.set_index(\"Country\",inplace=True)\n",
    "    full_country_stats=pd.merge(left=oecd_bli,right=gdp_per_capita,\n",
    "                                left_index=True,right_index=True)\n",
    "    full_country_stats.sort_values(by=\"GDP per capita\",inplace=True)\n",
    "    \n",
    "    remove_indices=[0,1,6,8,33,34,35]\n",
    "    keep_indices=list(set(range(36))-set(remove_indices))\n",
    "    print(full_country_stats[[\"GDP per capita\",\"life satisfaction\"]].iloc[keep_indices])\n",
    "    return full_country_stats[[\"GDP per capita\",'Life satisfaction']].iloc[keep_indices]\n",
    "#load the data\n",
    "oecd_bli=pd.read_csv(\"oecd_bli_2015.csv\",\n",
    "                     thousands=\",\")\n",
    "gdp_per_capita=pd.read_csv(\"gdp_per_capita.csv\",\n",
    "                           thousands=',',delimiter='\\t',encoding='latin1',\n",
    "                           na_values=\"n/a\")\n",
    "country_stats=prepare_country_stats(oecd_bli,gdp_per_capita)\n",
    "x=np.c_[country_stats[\"GDP per capita\"]]\n",
    "y=np.c_[country_stats[\"Life satisfaction\"]]\n",
    "\n",
    "country_stats.plot(kind='scatter',x=\"GDP per capita\",y='Life satisfaction')\n",
    "plt.show()\n",
    "\n",
    "lin_reg_model=sklearn.linear_model.LinearRegression()\n",
    "\n",
    "lin_reg_model.fit(x,y)\n",
    "x_new=[[22587]]\n",
    "print(lin_reg_model.predict(x_new))\n"
   ]
  },
  {
   "cell_type": "code",
   "execution_count": 1,
   "metadata": {},
   "outputs": [
    {
     "data": {
      "image/png": "[encoded data removed]",
      "text/plain": [
       "<Figure size 432x288 with 1 Axes>"
      ]
     },
     "metadata": {
      "needs_background": "light"
     },
     "output_type": "display_data"
    },
    {
     "name": "stdout",
     "output_type": "stream",
     "text": [
      "[[5.76666667]]\n"
     ]
    }
   ],
   "source": [
    "import pandas as pd\n",
    "import numpy as np\n",
    "import sklearn.linear_model\n",
    "import sklearn.neighbors\n",
    "import matplotlib.pyplot as plt\n",
    "\n",
    "# Load the data\n",
    "bli = pd.read_csv(\"oecd_bli_2015.csv\", thousands=',')\n",
    "\n",
    "gdp = pd.read_csv(\"gdp_per_capita.csv\",thousands=',',delimiter=',',\n",
    "                             encoding='latin1', na_values=\"n/a\")\n",
    "\n",
    "\n",
    "# Prepare the data\n",
    "\n",
    "bli = bli[bli[\"INEQUALITY\"]==\"TOT\"]\n",
    "bli = bli[bli[\"INDICATOR\"]==\"SW_LIFS\"]\n",
    "\n",
    "nbli = pd.DataFrame(columns=['Pais','Satisfaccion'])\n",
    "nbli['Pais']=bli['Country']\n",
    "nbli['Satisfaccion']=bli['Value']\n",
    "nbli.set_index(\"Pais\", inplace=True)\n",
    "\n",
    "ngdp = pd.DataFrame(columns=['Pais','Renta'])\n",
    "ngdp['Pais']=gdp['Country']\n",
    "ngdp['Renta']=gdp['2015']\n",
    "ngdp.set_index(\"Pais\", inplace=True)\n",
    "ngdp = ngdp.apply(lambda x: pd.to_numeric(x.astype(str).str.replace(',',''), errors='coerce'))\n",
    "\n",
    "country_stats = pd.merge(left=nbli, right=ngdp,\n",
    "                                  left_index=True, right_index=True)\n",
    "\n",
    "country_stats.sort_values(by=\"Renta\", inplace=True)\n",
    "\n",
    "# Visualize the data\n",
    "country_stats.plot(kind='scatter', x=\"Renta\", y='Satisfaccion')\n",
    "plt.show()\n",
    "\n",
    "X = np.c_[country_stats[\"Renta\"]]\n",
    "y = np.c_[country_stats[\"Satisfaccion\"]]\n",
    "\n",
    "# Select a linear model (Opcional)\n",
    "model = sklearn.linear_model.LinearRegression()\n",
    "model = sklearn.neighbors.KNeighborsRegressor(n_neighbors=3)\n",
    "\n",
    "# Train the model\n",
    "model.fit(X, y)\n",
    "\n",
    "# Make a prediction for Cyprus\n",
    "X_new = [[22587]]  # Cyprus' GDP per capita\n",
    "print(model.predict(X_new)) \n"
   ]
  },
  {
   "cell_type": "code",
   "execution_count": 11,
   "metadata": {},
   "outputs": [
    {
     "name": "stdout",
     "output_type": "stream",
     "text": [
      "(70000, 784)\n"
     ]
    },
    {
     "data": {
      "image/png": "[encoded data removed]",
      "text/plain": [
       "<Figure size 432x288 with 1 Axes>"
      ]
     },
     "metadata": {
      "needs_background": "light"
     },
     "output_type": "display_data"
    },
    {
     "name": "stdout",
     "output_type": "stream",
     "text": [
      "['5' '0' '4' ... '5' '6' '8']\n",
      "[5 0 4 ... 5 6 8]\n",
      "[False False  True ... False False False]\n"
     ]
    },
    {
     "data": {
      "text/plain": [
       "array([ True])"
      ]
     },
     "execution_count": 11,
     "metadata": {},
     "output_type": "execute_result"
    }
   ],
   "source": [
    "# exp2 digit image classifier\n",
    "from sklearn.datasets import fetch_openml\n",
    "mnist=fetch_openml('mnist_784',version=1,cache=True)\n",
    "x,y=mnist[\"data\"],mnist[\"target\"]\n",
    "print(x.shape)\n",
    "#% matplotlib inline\n",
    "import matplotlib\n",
    "import matplotlib.pyplot as plt\n",
    "\n",
    "some_digit=x[26000]\n",
    "some_digit_image=some_digit.reshape(28,28)\n",
    "plt.imshow(some_digit_image ,cmap=matplotlib.cm.binary,interpolation=\"nearest\")\n",
    "plt.axis(\"off\")\n",
    "plt.show()\n",
    "x_train,x_test,y_train,y_test=x[:60000],x[60000:],y[:60000],y[60000:]\n",
    "print(y_train)\n",
    "\n",
    "import numpy as np\n",
    "\n",
    "y_train=y_train.astype(np.int8)\n",
    "print(y_train)\n",
    "y_train_4=(y_train==4)\n",
    "print(y_train_4)\n",
    "\n",
    "\n",
    "from sklearn.linear_model import SGDClassifier\n",
    "\n",
    "sgd_clf=SGDClassifier(random_state=42)\n",
    "sgd_clf.fit(x_train,y_train_4)\n",
    "sgd_clf.predict([some_digit])\n"
   ]
  },
  {
   "cell_type": "code",
   "execution_count": 2,
   "metadata": {},
   "outputs": [
    {
     "name": "stdout",
     "output_type": "stream",
     "text": [
      "Coefficients: \n",
      " [938.23786125]\n",
      "Intercept:  152.91886182616167\n",
      "Mean squared error: 2548.07\n",
      "Variance score: 0.47\n"
     ]
    },
    {
     "data": {
      "image/png": "[encoded data removed]",
      "text/plain": [
       "<Figure size 432x288 with 1 Axes>"
      ]
     },
     "metadata": {},
     "output_type": "display_data"
    }
   ],
   "source": [
    "import matplotlib.pyplot as plt\n",
    "\n",
    "import numpy as np\n",
    "\n",
    "from sklearn import datasets, linear_model \n",
    "from sklearn.metrics import mean_squared_error, r2_score\n",
    "\n",
    "# Load the diabetes dataset\n",
    "\n",
    "diabetes = datasets.load_diabetes()\n",
    "\n",
    "#print(diabetes.DESCR)\n",
    "\n",
    "# Use only one feature\n",
    "\n",
    "diabetes_X = diabetes.data[:, np.newaxis,2]\n",
    "\n",
    "# Split the data into training/testing sets\n",
    "\n",
    "diabetes_X_train = diabetes_X[:-20]\n",
    "\n",
    "diabetes_X_test= diabetes_X[-20:]\n",
    "diabetes_y_train =diabetes.target[:-20]\n",
    "diabetes_y_test =diabetes.target[-20:]\n",
    "\n",
    "regr = linear_model.LinearRegression()\n",
    "\n",
    "# Train the model using the training sets \n",
    "regr.fit(diabetes_X_train, diabetes_y_train)\n",
    "\n",
    "# Make predictions using the testing set \n",
    "diabetes_y_pred = regr.predict(diabetes_X_test)\n",
    "\n",
    "# The coefficients\n",
    "\n",
    "print('Coefficients: \\n', regr.coef_) \n",
    "print('Intercept: ',regr.intercept_)\n",
    "print(\"Mean squared error: %.2f\" %mean_squared_error(diabetes_y_test,diabetes_y_pred))\n",
    "print(\"Variance score: %.2f\" %r2_score(diabetes_y_test,diabetes_y_pred))\n",
    "plt.scatter(diabetes_X_test,diabetes_y_test,color='black')\n",
    "plt.plot(diabetes_X_test,diabetes_y_pred,color='blue',linewidth=3)\n",
    "plt.xticks(())\n",
    "plt.yticks(())\n",
    "plt.show()"
   ]
  },
  {
   "cell_type": "code",
   "execution_count": 3,
   "metadata": {},
   "outputs": [
    {
     "name": "stdout",
     "output_type": "stream",
     "text": [
      "[1.]\n",
      "[0. 0. 0. 0. 0. 0. 0. 0. 0. 0. 0. 0. 0. 0. 0. 0. 0. 0. 0. 0. 0. 0. 0. 0.\n",
      " 0. 0. 0. 0. 0. 0. 0. 0. 0. 0. 0. 0. 0. 0. 0. 0. 0. 0. 0. 0. 0. 0. 0. 0.\n",
      " 0. 0. 0. 0. 0. 0. 0. 0. 0. 0. 0. 0. 0. 0. 0. 0. 0. 0. 0. 0. 0. 0. 0. 0.\n",
      " 0. 0. 0. 0. 0. 0. 0. 0. 0. 0. 0. 0. 0. 0. 0. 0. 0. 0. 0. 0. 0. 0. 0. 0.\n",
      " 0. 0. 0. 0. 1. 1. 1. 1. 1. 1. 1. 1. 1. 1. 1. 1. 1. 1. 1. 1. 1. 1. 1. 1.\n",
      " 1. 1. 1. 1. 1. 1. 1. 1. 1. 1. 1. 1. 1. 1. 1. 1. 1. 1. 1. 1. 1. 1. 1. 1.\n",
      " 1. 1. 1. 1. 1. 1.]\n"
     ]
    }
   ],
   "source": [
    "  #3support vector machine \n",
    "import numpy as np\n",
    "from sklearn import datasets\n",
    "from sklearn.pipeline import Pipeline\n",
    "from sklearn.preprocessing import StandardScaler\n",
    "from sklearn.svm import LinearSVC\n",
    "\n",
    "iris = datasets.load_iris()\n",
    "x = iris[\"data\"][:,(2,3)]\n",
    "y=(iris[\"target\"] == 2).astype(np.float64)\n",
    "svm_clf=Pipeline(((\"scaler\",StandardScaler()),(\"linear_svc\",LinearSVC(C=1,loss=\"hinge\")),))\n",
    "svm_clf.fit(x,y)\n",
    "print(svm_clf.predict([[5.5,1.7]]))\n",
    "print(y)"
   ]
  },
  {
   "cell_type": "code",
   "execution_count": 1,
   "metadata": {
    "scrolled": true
   },
   "outputs": [
    {
     "name": "stdout",
     "output_type": "stream",
     "text": [
      "154\n",
      "0.9999999999999998\n",
      "[[1045.68837199   43.66029036 -292.53320098 ...   -4.05211602\n",
      "   -63.10030399  -21.88882606]\n",
      " [-141.34713106  541.7832999   587.15871122 ...   25.65755748\n",
      "    42.1947586   -12.98117362]\n",
      " [  74.60551934  686.54160797   68.7035786  ...  -33.95256539\n",
      "     7.83136761  -41.75940041]\n",
      " ...\n",
      " [ -23.62189562  506.43078857 -254.00043629 ...  -27.54451323\n",
      "    70.57217563    8.21628114]\n",
      " [  -3.11990512  778.32823695 -678.40637662 ...  -75.322749\n",
      "   -62.06948205   18.01536254]\n",
      " [ 104.2237617   816.31286484  373.41171542 ...   17.53504133\n",
      "    20.06467428  108.52815002]]\n",
      "[[-4.86350317e-15  2.90519601e-13  1.01769475e-13 ...  0.00000000e+00\n",
      "   0.00000000e+00  0.00000000e+00]\n",
      " [-3.56073037e-13  3.51122789e-14  6.79375580e-14 ...  0.00000000e+00\n",
      "   0.00000000e+00  0.00000000e+00]\n",
      " [-7.60053105e-14  1.63322754e-13 -1.35323863e-13 ...  0.00000000e+00\n",
      "   0.00000000e+00  0.00000000e+00]\n",
      " ...\n",
      " [-8.73234432e-14 -3.49873374e-14 -1.70409990e-13 ...  0.00000000e+00\n",
      "   0.00000000e+00  0.00000000e+00]\n",
      " [-2.85398278e-13 -1.15434362e-13 -1.86979753e-14 ...  0.00000000e+00\n",
      "   0.00000000e+00  0.00000000e+00]\n",
      " [-1.81380905e-13 -5.99958336e-14 -2.67505313e-13 ...  0.00000000e+00\n",
      "   0.00000000e+00  0.00000000e+00]]\n"
     ]
    }
   ],
   "source": [
    "         #EXP:PRINCIPAL COMPONENT ANALYSIS\n",
    "from sklearn.model_selection import train_test_split\n",
    "from sklearn.datasets import fetch_openml\n",
    "mnist=fetch_openml('mnist_784',version=1,cache=True)\n",
    "x,y=mnist[\"data\"],mnist[\"target\"]\n",
    "x_train,x_test,y_train,y_test=train_test_split(x,y)\n",
    "from sklearn.decomposition import PCA\n",
    "import numpy as np\n",
    "pca=PCA()\n",
    "pca.fit(x_train)\n",
    "cumsum=np.cumsum(pca.explained_variance_ratio_)\n",
    "d=np.argmax(cumsum>=0.95)+1\n",
    "print(d)\n",
    "print(np.sum(pca.explained_variance_ratio_))\n",
    "pca=PCA(n_components=154)\n",
    "x_reduced=pca.fit_transform(x_train)\n",
    "x_recovered=pca.inverse_transform(x_reduced)\n",
    "print(x_reduced)\n",
    "print(x_recovered)"
   ]
  },
  {
   "cell_type": "code",
   "execution_count": 1,
   "metadata": {},
   "outputs": [
    {
     "name": "stdout",
     "output_type": "stream",
     "text": [
      "[[0.         0.90740741 0.09259259]]\n",
      "[1]\n"
     ]
    }
   ],
   "source": [
    "#EXP5 :DECISION TREE\n",
    "from sklearn.datasets import load_iris\n",
    "from sklearn.tree import DecisionTreeClassifier\n",
    "iris=load_iris()\n",
    "x=iris.data[:,2:]\n",
    "y=iris.target\n",
    "tree_clf= DecisionTreeClassifier(max_depth=2 )\n",
    "tree_clf.fit(x,y)\n",
    "from sklearn.tree import export_graphviz\n",
    "export_graphviz(\n",
    "tree_clf,out_file=\"iris_tree.dot\",feature_names=iris.feature_names[2:],\n",
    "class_names=iris.target_names,rounded=True,\n",
    "filled=True)\n",
    "print(tree_clf.predict_proba([[5,1.5]]))\n",
    "print(tree_clf.predict([[5,1.5]]))\n"
   ]
  },
  {
   "cell_type": "code",
   "execution_count": 1,
   "metadata": {},
   "outputs": [
    {
     "name": "stdout",
     "output_type": "stream",
     "text": [
      "LogisticRegression 0.864\n",
      "RandomForestClassifier 0.872\n",
      "SVC 0.888\n",
      "VotingClassifier 0.896\n"
     ]
    }
   ],
   "source": [
    "# exp6. Ensemble Learning\n",
    "from sklearn.model_selection import train_test_split\n",
    "from sklearn.datasets import make_moons\n",
    "x,y=make_moons(n_samples=500,noise=0.30,random_state=42)\n",
    "x_train,x_test,y_train,y_test=train_test_split(x,y,random_state=42)\n",
    "\n",
    "from sklearn.ensemble import RandomForestClassifier\n",
    "from sklearn.ensemble import VotingClassifier\n",
    "from sklearn.linear_model import LogisticRegression\n",
    "from sklearn.svm import SVC\n",
    "log_clf=LogisticRegression(solver=\"liblinear\",random_state=42)\n",
    "rnd_clf=RandomForestClassifier(n_estimators=10,random_state=42)\n",
    "svm_clf=SVC(gamma=\"auto\",random_state=42)\n",
    "voting_clf=VotingClassifier(estimators=[('lr',log_clf),('rf',rnd_clf),('svc',svm_clf)],voting='hard')\n",
    "from sklearn.metrics import accuracy_score\n",
    "for clf in(log_clf,rnd_clf,svm_clf,voting_clf):\n",
    "    clf.fit(x_train,y_train)\n",
    "    y_pred=clf.predict(x_test)\n",
    "    print(clf.__class__.__name__,accuracy_score(y_test,y_pred))\n"
   ]
  },
  {
   "cell_type": "code",
   "execution_count": 19,
   "metadata": {},
   "outputs": [
    {
     "data": {
      "text/plain": [
       "0.976"
      ]
     },
     "execution_count": 19,
     "metadata": {},
     "output_type": "execute_result"
    }
   ],
   "source": [
    "#  EXP9:RANDOM FORESTS\n",
    "from sklearn.model_selection import train_test_split\n",
    "from sklearn.datasets import make_moons\n",
    "import numpy as np\n",
    "x,y=make_moons(n_samples=500,noise=0.30,random_state=42)\n",
    "x_train,x_test,y_train,y_test=train_test_split(x,y,random_state=42)\n",
    "from sklearn.ensemble import BaggingClassifier\n",
    "from sklearn.tree import DecisionTreeClassifier\n",
    "\n",
    "bag_clf=BaggingClassifier(\n",
    "DecisionTreeClassifier(splitter=\"random\",max_leaf_nodes=16,random_state=42),\n",
    "n_estimators=500,max_samples=100,bootstrap=True,n_jobs=-1,random_state=42)\n",
    "\n",
    "bag_clf.fit(x_train,y_train)\n",
    "y_pred=bag_clf.predict(x_test)\n",
    "from sklearn.ensemble import RandomForestClassifier\n",
    "rnd_clf=RandomForestClassifier(n_estimators=500,max_leaf_nodes=16,n_jobs=-1,random_state=42)\n",
    "rnd_clf.fit(x_train,y_train)\n",
    "y_pred_rf=rnd_clf.predict(x_test)\n",
    "np.sum(y_pred==y_pred_rf)/len(y_pred)"
   ]
  },
  {
   "cell_type": "code",
   "execution_count": 1,
   "metadata": {
    "scrolled": true
   },
   "outputs": [
    {
     "name": "stdout",
     "output_type": "stream",
     "text": [
      "154\n",
      "1.0\n",
      "[[ 527.47205963  -76.84254011  243.1039954  ...  -92.30491706\n",
      "    -1.43208617  -34.00395211]\n",
      " [-471.36899979  345.94965464  -14.71349995 ...   -2.44780437\n",
      "    11.78094089   -3.04678661]\n",
      " [  -7.70619314 -256.84989948  -89.33165376 ...  -28.97559606\n",
      "   -20.37226834  -74.22659252]\n",
      " ...\n",
      " [ -78.55930169  764.40188604 -141.47647359 ...  -29.48247655\n",
      "    32.30941263  -66.94776186]\n",
      " [  52.87108436 -583.77447706  748.3892528  ...  -28.36114041\n",
      "    17.57412535   50.58762839]\n",
      " [-405.02446034  234.21671745 -180.06853805 ...  -15.94582965\n",
      "    32.63893183   92.23507507]]\n",
      "[[-7.01459509e-14 -6.16770818e-13 -6.43283075e-13 ...  0.00000000e+00\n",
      "   0.00000000e+00  0.00000000e+00]\n",
      " [-1.96099993e-14  2.21346444e-13  4.32791479e-13 ...  0.00000000e+00\n",
      "   0.00000000e+00  0.00000000e+00]\n",
      " [ 5.65317398e-14 -1.10801137e-14  4.58840211e-13 ...  0.00000000e+00\n",
      "   0.00000000e+00  0.00000000e+00]\n",
      " ...\n",
      " [-2.29246578e-14  5.42068127e-13 -1.07663180e-13 ...  0.00000000e+00\n",
      "   0.00000000e+00  0.00000000e+00]\n",
      " [ 7.17984316e-14 -3.63499663e-13  3.13091279e-13 ...  0.00000000e+00\n",
      "   0.00000000e+00  0.00000000e+00]\n",
      " [-1.07993407e-13 -1.04422862e-13 -4.88288792e-14 ...  0.00000000e+00\n",
      "   0.00000000e+00  0.00000000e+00]]\n"
     ]
    }
   ],
   "source": [
    "# EXP10:PRINCIPAL COMPONENT ANALYSIS\n",
    "\n",
    "from sklearn.model_selection import train_test_split\n",
    "from sklearn.datasets import fetch_openml\n",
    "mnist=fetch_openml('mnist_784',version=1,cache=True)\n",
    "x,y=mnist[\"data\"],mnist[\"target\"]\n",
    "x_train,x_test,y_train,y_test=train_test_split(x,y)\n",
    "\n",
    "from sklearn.decomposition import PCA\n",
    "import numpy as np\n",
    "pca=PCA()\n",
    "pca.fit(x_train)\n",
    "cumsum=np.cumsum(pca.explained_variance_ratio_)\n",
    "d=np.argmax(cumsum>=0.95)+1\n",
    "print(d)\n",
    "print(np.sum(pca.explained_variance_ratio_))\n",
    "pca=PCA(n_components=154)\n",
    "x_reduced=pca.fit_transform(x_train)\n",
    "x_recovered=pca.inverse_transform(x_reduced)\n",
    "print(x_reduced)\n",
    "print(x_recovered)\n"
   ]
  },
  {
   "cell_type": "code",
   "execution_count": 2,
   "metadata": {},
   "outputs": [
    {
     "name": "stdout",
     "output_type": "stream",
     "text": [
      "[[43.2 16.7]\n",
      " [29.6 66.8]\n",
      " [55.1 46.1]]\n"
     ]
    },
    {
     "data": {
      "text/plain": [
       "<matplotlib.collections.PathCollection at 0x226fa860070>"
      ]
     },
     "execution_count": 2,
     "metadata": {},
     "output_type": "execute_result"
    },
    {
     "data": {
      "image/png": "[encoded data removed]",
      "text/plain": [
       "<Figure size 432x288 with 1 Axes>"
      ]
     },
     "metadata": {
      "needs_background": "light"
     },
     "output_type": "display_data"
    }
   ],
   "source": [
    "#EXP5:K-MEANS CLUSTER \n",
    "from pandas import DataFrame\n",
    "import matplotlib.pyplot as plt\n",
    "from sklearn.cluster import KMeans\n",
    "Data={'x':[25,34,22,27,33,33,31,22,35,34,67,54,57,43,50,57,59,52,65,47,49,48,35,33,44,45,38,43,51,46],\n",
    "      'y':[79,51,53,78,59,74,73,57,69,75,51,32,40,47,53,36,35,58,59,50,25,20,14,12,20,5,29,27,8,7]}\n",
    "df=DataFrame(Data,columns=['x','y'])\n",
    "kmeans=KMeans(n_clusters=3).fit(df)\n",
    "centroids=kmeans.cluster_centers_\n",
    "print(centroids)\n",
    "plt.scatter(df['x'],df['y'],c=kmeans.labels_.astype(float))\n",
    "plt.scatter(centroids[:,0],centroids[:,1],c='red')"
   ]
  },
  {
   "cell_type": "code",
   "execution_count": null,
   "metadata": {},
   "outputs": [],
   "source": []
  }
 ],
 "metadata": {
  "kernelspec": {
   "display_name": "Python 3",
   "language": "python",
   "name": "python3"
  },
  "language_info": {
   "codemirror_mode": {
    "name": "ipython",
    "version": 3
   },
   "file_extension": ".py",
   "mimetype": "text/x-python",
   "name": "python",
   "nbconvert_exporter": "python",
   "pygments_lexer": "ipython3",
   "version": "3.8.3"
  }
 },
 "nbformat": 4,
 "nbformat_minor": 4
}
